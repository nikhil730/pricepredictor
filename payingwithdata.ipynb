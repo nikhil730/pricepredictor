{
  "nbformat": 4,
  "nbformat_minor": 0,
  "metadata": {
    "colab": {
      "provenance": [],
      "authorship_tag": "ABX9TyOx6A2RpCc0TO44rEIHb3eS",
      "include_colab_link": true
    },
    "kernelspec": {
      "name": "python3",
      "display_name": "Python 3"
    },
    "language_info": {
      "name": "python"
    }
  },
  "cells": [
    {
      "cell_type": "markdown",
      "metadata": {
        "id": "view-in-github",
        "colab_type": "text"
      },
      "source": [
        "<a href=\"https://colab.research.google.com/github/nikhil730/pricepredictor/blob/main/payingwithdata.ipynb\" target=\"_parent\"><img src=\"https://colab.research.google.com/assets/colab-badge.svg\" alt=\"Open In Colab\"/></a>"
      ]
    },
    {
      "cell_type": "code",
      "metadata": {
        "id": "CLjENIMFRcIN"
      },
      "source": [
        "import pandas as pd\n",
        "import numpy as np\n",
        "from matplotlib import pyplot\n",
        "import matplotlib\n",
        "%matplotlib inline\n",
        " "
      ],
      "execution_count": null,
      "outputs": []
    },
    {
      "cell_type": "code",
      "metadata": {
        "colab": {
          "resources": {
            "http://localhost:8080/nbextensions/google.colab/files.js": {
              "data": "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",
              "ok": true,
              "headers": [
                [
                  "content-type",
                  "application/javascript"
                ]
              ],
              "status": 200,
              "status_text": ""
            }
          },
          "base_uri": "https://localhost:8080/",
          "height": 73
        },
        "id": "aq9nLu5vSnua",
        "outputId": "595b1fd2-da1e-445a-857d-c6782d4ec7ee"
      },
      "source": [
        "from google.colab import files\n",
        "uploaded=files.upload()"
      ],
      "execution_count": null,
      "outputs": [
        {
          "output_type": "display_data",
          "data": {
            "text/html": [
              "\n",
              "     <input type=\"file\" id=\"files-696a4a9d-9860-4c37-b650-d927abe3d32b\" name=\"files[]\" multiple disabled\n",
              "        style=\"border:none\" />\n",
              "     <output id=\"result-696a4a9d-9860-4c37-b650-d927abe3d32b\">\n",
              "      Upload widget is only available when the cell has been executed in the\n",
              "      current browser session. Please rerun this cell to enable.\n",
              "      </output>\n",
              "      <script src=\"/nbextensions/google.colab/files.js\"></script> "
            ],
            "text/plain": [
              "<IPython.core.display.HTML object>"
            ]
          },
          "metadata": {}
        },
        {
          "output_type": "stream",
          "name": "stdout",
          "text": [
            "Saving MagicBricks.csv to MagicBricks.csv\n"
          ]
        }
      ]
    },
    {
      "cell_type": "code",
      "metadata": {
        "id": "KM5KCd-FTbn5"
      },
      "source": [
        "df=pd.read_csv(\"MagicBricks.csv\")"
      ],
      "execution_count": null,
      "outputs": []
    },
    {
      "cell_type": "code",
      "metadata": {
        "colab": {
          "base_uri": "https://localhost:8080/",
          "height": 275
        },
        "id": "YvpWKrpLTh1y",
        "outputId": "fbff9a0b-42d1-4c4b-e7a7-fc05457ad542"
      },
      "source": [
        "df.head()"
      ],
      "execution_count": null,
      "outputs": [
        {
          "output_type": "execute_result",
          "data": {
            "text/html": [
              "<div>\n",
              "<style scoped>\n",
              "    .dataframe tbody tr th:only-of-type {\n",
              "        vertical-align: middle;\n",
              "    }\n",
              "\n",
              "    .dataframe tbody tr th {\n",
              "        vertical-align: top;\n",
              "    }\n",
              "\n",
              "    .dataframe thead th {\n",
              "        text-align: right;\n",
              "    }\n",
              "</style>\n",
              "<table border=\"1\" class=\"dataframe\">\n",
              "  <thead>\n",
              "    <tr style=\"text-align: right;\">\n",
              "      <th></th>\n",
              "      <th>Area</th>\n",
              "      <th>BHK</th>\n",
              "      <th>Bathroom</th>\n",
              "      <th>Furnishing</th>\n",
              "      <th>Locality</th>\n",
              "      <th>Parking</th>\n",
              "      <th>Price</th>\n",
              "      <th>Status</th>\n",
              "      <th>Transaction</th>\n",
              "      <th>Type</th>\n",
              "      <th>Per_Sqft</th>\n",
              "    </tr>\n",
              "  </thead>\n",
              "  <tbody>\n",
              "    <tr>\n",
              "      <th>0</th>\n",
              "      <td>800.0</td>\n",
              "      <td>3</td>\n",
              "      <td>2.0</td>\n",
              "      <td>Semi-Furnished</td>\n",
              "      <td>Rohini Sector 25</td>\n",
              "      <td>1.0</td>\n",
              "      <td>6500000</td>\n",
              "      <td>Ready_to_move</td>\n",
              "      <td>New_Property</td>\n",
              "      <td>Builder_Floor</td>\n",
              "      <td>NaN</td>\n",
              "    </tr>\n",
              "    <tr>\n",
              "      <th>1</th>\n",
              "      <td>750.0</td>\n",
              "      <td>2</td>\n",
              "      <td>2.0</td>\n",
              "      <td>Semi-Furnished</td>\n",
              "      <td>J R Designers Floors, Rohini Sector 24</td>\n",
              "      <td>1.0</td>\n",
              "      <td>5000000</td>\n",
              "      <td>Ready_to_move</td>\n",
              "      <td>New_Property</td>\n",
              "      <td>Apartment</td>\n",
              "      <td>6667.0</td>\n",
              "    </tr>\n",
              "    <tr>\n",
              "      <th>2</th>\n",
              "      <td>950.0</td>\n",
              "      <td>2</td>\n",
              "      <td>2.0</td>\n",
              "      <td>Furnished</td>\n",
              "      <td>Citizen Apartment, Rohini Sector 13</td>\n",
              "      <td>1.0</td>\n",
              "      <td>15500000</td>\n",
              "      <td>Ready_to_move</td>\n",
              "      <td>Resale</td>\n",
              "      <td>Apartment</td>\n",
              "      <td>6667.0</td>\n",
              "    </tr>\n",
              "    <tr>\n",
              "      <th>3</th>\n",
              "      <td>600.0</td>\n",
              "      <td>2</td>\n",
              "      <td>2.0</td>\n",
              "      <td>Semi-Furnished</td>\n",
              "      <td>Rohini Sector 24</td>\n",
              "      <td>1.0</td>\n",
              "      <td>4200000</td>\n",
              "      <td>Ready_to_move</td>\n",
              "      <td>Resale</td>\n",
              "      <td>Builder_Floor</td>\n",
              "      <td>6667.0</td>\n",
              "    </tr>\n",
              "    <tr>\n",
              "      <th>4</th>\n",
              "      <td>650.0</td>\n",
              "      <td>2</td>\n",
              "      <td>2.0</td>\n",
              "      <td>Semi-Furnished</td>\n",
              "      <td>Rohini Sector 24 carpet area 650 sqft status R...</td>\n",
              "      <td>1.0</td>\n",
              "      <td>6200000</td>\n",
              "      <td>Ready_to_move</td>\n",
              "      <td>New_Property</td>\n",
              "      <td>Builder_Floor</td>\n",
              "      <td>6667.0</td>\n",
              "    </tr>\n",
              "  </tbody>\n",
              "</table>\n",
              "</div>"
            ],
            "text/plain": [
              "    Area  BHK  Bathroom  ...   Transaction           Type  Per_Sqft\n",
              "0  800.0    3       2.0  ...  New_Property  Builder_Floor       NaN\n",
              "1  750.0    2       2.0  ...  New_Property      Apartment    6667.0\n",
              "2  950.0    2       2.0  ...        Resale      Apartment    6667.0\n",
              "3  600.0    2       2.0  ...        Resale  Builder_Floor    6667.0\n",
              "4  650.0    2       2.0  ...  New_Property  Builder_Floor    6667.0\n",
              "\n",
              "[5 rows x 11 columns]"
            ]
          },
          "metadata": {},
          "execution_count": 4
        }
      ]
    },
    {
      "cell_type": "code",
      "metadata": {
        "colab": {
          "base_uri": "https://localhost:8080/"
        },
        "id": "l2k7DaLfctR6",
        "outputId": "dd657ac5-eb86-4e32-f721-7a5dc63a0f76"
      },
      "source": [
        "df.columns"
      ],
      "execution_count": null,
      "outputs": [
        {
          "output_type": "execute_result",
          "data": {
            "text/plain": [
              "Index(['Area', 'BHK', 'Bathroom', 'Furnishing', 'Locality', 'Parking', 'Price',\n",
              "       'Status', 'Transaction', 'Type', 'Per_Sqft'],\n",
              "      dtype='object')"
            ]
          },
          "metadata": {},
          "execution_count": 5
        }
      ]
    },
    {
      "cell_type": "code",
      "metadata": {
        "colab": {
          "base_uri": "https://localhost:8080/"
        },
        "id": "H6Vl7iXLkhj_",
        "outputId": "effbe720-ba62-4a76-edef-f36962a21099"
      },
      "source": [
        "df.shape"
      ],
      "execution_count": null,
      "outputs": [
        {
          "output_type": "execute_result",
          "data": {
            "text/plain": [
              "(1259, 11)"
            ]
          },
          "metadata": {},
          "execution_count": 6
        }
      ]
    },
    {
      "cell_type": "code",
      "metadata": {
        "colab": {
          "base_uri": "https://localhost:8080/"
        },
        "id": "7vJDVJVelJBF",
        "outputId": "dcca45fb-77d7-403a-8e40-bda9f3f0f744"
      },
      "source": [
        "df.groupby('Furnishing')['Furnishing'].agg('count')"
      ],
      "execution_count": null,
      "outputs": [
        {
          "output_type": "execute_result",
          "data": {
            "text/plain": [
              "Furnishing\n",
              "Furnished         183\n",
              "Semi-Furnished    708\n",
              "Unfurnished       363\n",
              "Name: Furnishing, dtype: int64"
            ]
          },
          "metadata": {},
          "execution_count": 7
        }
      ]
    },
    {
      "cell_type": "code",
      "metadata": {
        "colab": {
          "base_uri": "https://localhost:8080/",
          "height": 206
        },
        "id": "pJf1KSrdmjkB",
        "outputId": "8e297c88-9448-40f3-b0ff-1da47d9fc3f5"
      },
      "source": [
        "df2=df.drop(['Status','Transaction','Type','Parking','Per_Sqft'],axis='columns')\n",
        "df2.head()"
      ],
      "execution_count": null,
      "outputs": [
        {
          "output_type": "execute_result",
          "data": {
            "text/html": [
              "<div>\n",
              "<style scoped>\n",
              "    .dataframe tbody tr th:only-of-type {\n",
              "        vertical-align: middle;\n",
              "    }\n",
              "\n",
              "    .dataframe tbody tr th {\n",
              "        vertical-align: top;\n",
              "    }\n",
              "\n",
              "    .dataframe thead th {\n",
              "        text-align: right;\n",
              "    }\n",
              "</style>\n",
              "<table border=\"1\" class=\"dataframe\">\n",
              "  <thead>\n",
              "    <tr style=\"text-align: right;\">\n",
              "      <th></th>\n",
              "      <th>Area</th>\n",
              "      <th>BHK</th>\n",
              "      <th>Bathroom</th>\n",
              "      <th>Furnishing</th>\n",
              "      <th>Locality</th>\n",
              "      <th>Price</th>\n",
              "    </tr>\n",
              "  </thead>\n",
              "  <tbody>\n",
              "    <tr>\n",
              "      <th>0</th>\n",
              "      <td>800.0</td>\n",
              "      <td>3</td>\n",
              "      <td>2.0</td>\n",
              "      <td>Semi-Furnished</td>\n",
              "      <td>Rohini Sector 25</td>\n",
              "      <td>6500000</td>\n",
              "    </tr>\n",
              "    <tr>\n",
              "      <th>1</th>\n",
              "      <td>750.0</td>\n",
              "      <td>2</td>\n",
              "      <td>2.0</td>\n",
              "      <td>Semi-Furnished</td>\n",
              "      <td>J R Designers Floors, Rohini Sector 24</td>\n",
              "      <td>5000000</td>\n",
              "    </tr>\n",
              "    <tr>\n",
              "      <th>2</th>\n",
              "      <td>950.0</td>\n",
              "      <td>2</td>\n",
              "      <td>2.0</td>\n",
              "      <td>Furnished</td>\n",
              "      <td>Citizen Apartment, Rohini Sector 13</td>\n",
              "      <td>15500000</td>\n",
              "    </tr>\n",
              "    <tr>\n",
              "      <th>3</th>\n",
              "      <td>600.0</td>\n",
              "      <td>2</td>\n",
              "      <td>2.0</td>\n",
              "      <td>Semi-Furnished</td>\n",
              "      <td>Rohini Sector 24</td>\n",
              "      <td>4200000</td>\n",
              "    </tr>\n",
              "    <tr>\n",
              "      <th>4</th>\n",
              "      <td>650.0</td>\n",
              "      <td>2</td>\n",
              "      <td>2.0</td>\n",
              "      <td>Semi-Furnished</td>\n",
              "      <td>Rohini Sector 24 carpet area 650 sqft status R...</td>\n",
              "      <td>6200000</td>\n",
              "    </tr>\n",
              "  </tbody>\n",
              "</table>\n",
              "</div>"
            ],
            "text/plain": [
              "    Area  BHK  ...                                           Locality     Price\n",
              "0  800.0    3  ...                                   Rohini Sector 25   6500000\n",
              "1  750.0    2  ...             J R Designers Floors, Rohini Sector 24   5000000\n",
              "2  950.0    2  ...                Citizen Apartment, Rohini Sector 13  15500000\n",
              "3  600.0    2  ...                                   Rohini Sector 24   4200000\n",
              "4  650.0    2  ...  Rohini Sector 24 carpet area 650 sqft status R...   6200000\n",
              "\n",
              "[5 rows x 6 columns]"
            ]
          },
          "metadata": {},
          "execution_count": 8
        }
      ]
    },
    {
      "cell_type": "code",
      "metadata": {
        "colab": {
          "base_uri": "https://localhost:8080/"
        },
        "id": "RmSO7EgZn59j",
        "outputId": "2ad4fe4c-d454-48d0-ad77-26b0eee44921"
      },
      "source": [
        "df2.isnull().sum()"
      ],
      "execution_count": null,
      "outputs": [
        {
          "output_type": "execute_result",
          "data": {
            "text/plain": [
              "Area          0\n",
              "BHK           0\n",
              "Bathroom      2\n",
              "Furnishing    5\n",
              "Locality      0\n",
              "Price         0\n",
              "dtype: int64"
            ]
          },
          "metadata": {},
          "execution_count": 9
        }
      ]
    },
    {
      "cell_type": "code",
      "metadata": {
        "colab": {
          "base_uri": "https://localhost:8080/"
        },
        "id": "_eO2WSkKoc-X",
        "outputId": "8933793a-addc-410e-f20c-f7c8723a5833"
      },
      "source": [
        "df2.shape"
      ],
      "execution_count": null,
      "outputs": [
        {
          "output_type": "execute_result",
          "data": {
            "text/plain": [
              "(1259, 6)"
            ]
          },
          "metadata": {},
          "execution_count": 10
        }
      ]
    },
    {
      "cell_type": "code",
      "metadata": {
        "colab": {
          "base_uri": "https://localhost:8080/"
        },
        "id": "ePNn4sYbonCY",
        "outputId": "d2ad33bd-b67c-425e-eec4-dc8aa716cd10"
      },
      "source": [
        "df3=df2.dropna()\n",
        "df3.isnull().sum()"
      ],
      "execution_count": null,
      "outputs": [
        {
          "output_type": "execute_result",
          "data": {
            "text/plain": [
              "Area          0\n",
              "BHK           0\n",
              "Bathroom      0\n",
              "Furnishing    0\n",
              "Locality      0\n",
              "Price         0\n",
              "dtype: int64"
            ]
          },
          "metadata": {},
          "execution_count": 11
        }
      ]
    },
    {
      "cell_type": "code",
      "metadata": {
        "colab": {
          "base_uri": "https://localhost:8080/"
        },
        "id": "e8SRg0R4ozK5",
        "outputId": "65468f67-4366-482d-f8b9-d8ad3225f549"
      },
      "source": [
        "df3.shape"
      ],
      "execution_count": null,
      "outputs": [
        {
          "output_type": "execute_result",
          "data": {
            "text/plain": [
              "(1252, 6)"
            ]
          },
          "metadata": {},
          "execution_count": 12
        }
      ]
    },
    {
      "cell_type": "code",
      "metadata": {
        "colab": {
          "base_uri": "https://localhost:8080/",
          "height": 300
        },
        "id": "81UPqDf4rUn2",
        "outputId": "04f5070b-e25c-4793-8635-53cf6f226c04"
      },
      "source": [
        "df3[df3.BHK>5]"
      ],
      "execution_count": null,
      "outputs": [
        {
          "output_type": "execute_result",
          "data": {
            "text/html": [
              "<div>\n",
              "<style scoped>\n",
              "    .dataframe tbody tr th:only-of-type {\n",
              "        vertical-align: middle;\n",
              "    }\n",
              "\n",
              "    .dataframe tbody tr th {\n",
              "        vertical-align: top;\n",
              "    }\n",
              "\n",
              "    .dataframe thead th {\n",
              "        text-align: right;\n",
              "    }\n",
              "</style>\n",
              "<table border=\"1\" class=\"dataframe\">\n",
              "  <thead>\n",
              "    <tr style=\"text-align: right;\">\n",
              "      <th></th>\n",
              "      <th>Area</th>\n",
              "      <th>BHK</th>\n",
              "      <th>Bathroom</th>\n",
              "      <th>Furnishing</th>\n",
              "      <th>Locality</th>\n",
              "      <th>Price</th>\n",
              "    </tr>\n",
              "  </thead>\n",
              "  <tbody>\n",
              "    <tr>\n",
              "      <th>163</th>\n",
              "      <td>4050.0</td>\n",
              "      <td>6</td>\n",
              "      <td>3.0</td>\n",
              "      <td>Furnished</td>\n",
              "      <td>Budh Vihar Phase 1</td>\n",
              "      <td>5100000</td>\n",
              "    </tr>\n",
              "    <tr>\n",
              "      <th>164</th>\n",
              "      <td>2400.0</td>\n",
              "      <td>6</td>\n",
              "      <td>4.0</td>\n",
              "      <td>Furnished</td>\n",
              "      <td>Budh Vihar Phase 2</td>\n",
              "      <td>6000000</td>\n",
              "    </tr>\n",
              "    <tr>\n",
              "      <th>261</th>\n",
              "      <td>2800.0</td>\n",
              "      <td>6</td>\n",
              "      <td>4.0</td>\n",
              "      <td>Semi-Furnished</td>\n",
              "      <td>Taimoor Enclave, New Friends Colony carpet are...</td>\n",
              "      <td>29500000</td>\n",
              "    </tr>\n",
              "    <tr>\n",
              "      <th>345</th>\n",
              "      <td>2970.0</td>\n",
              "      <td>7</td>\n",
              "      <td>4.0</td>\n",
              "      <td>Furnished</td>\n",
              "      <td>Yamuna Vihar, Shahdara</td>\n",
              "      <td>26500000</td>\n",
              "    </tr>\n",
              "    <tr>\n",
              "      <th>352</th>\n",
              "      <td>324.0</td>\n",
              "      <td>6</td>\n",
              "      <td>3.0</td>\n",
              "      <td>Furnished</td>\n",
              "      <td>Yamuna Vihar, Shahdara</td>\n",
              "      <td>8700000</td>\n",
              "    </tr>\n",
              "    <tr>\n",
              "      <th>353</th>\n",
              "      <td>720.0</td>\n",
              "      <td>6</td>\n",
              "      <td>5.0</td>\n",
              "      <td>Furnished</td>\n",
              "      <td>Yamuna Vihar, Shahdara</td>\n",
              "      <td>22000000</td>\n",
              "    </tr>\n",
              "    <tr>\n",
              "      <th>585</th>\n",
              "      <td>5500.0</td>\n",
              "      <td>6</td>\n",
              "      <td>7.0</td>\n",
              "      <td>Furnished</td>\n",
              "      <td>Safdarjung Enclave</td>\n",
              "      <td>160000000</td>\n",
              "    </tr>\n",
              "    <tr>\n",
              "      <th>721</th>\n",
              "      <td>1200.0</td>\n",
              "      <td>10</td>\n",
              "      <td>4.0</td>\n",
              "      <td>Semi-Furnished</td>\n",
              "      <td>DDA Flats Sarita Vihar, Sarita Vihar, Mathura ...</td>\n",
              "      <td>17000000</td>\n",
              "    </tr>\n",
              "  </tbody>\n",
              "</table>\n",
              "</div>"
            ],
            "text/plain": [
              "       Area  BHK  ...                                           Locality      Price\n",
              "163  4050.0    6  ...                                 Budh Vihar Phase 1    5100000\n",
              "164  2400.0    6  ...                                 Budh Vihar Phase 2    6000000\n",
              "261  2800.0    6  ...  Taimoor Enclave, New Friends Colony carpet are...   29500000\n",
              "345  2970.0    7  ...                             Yamuna Vihar, Shahdara   26500000\n",
              "352   324.0    6  ...                             Yamuna Vihar, Shahdara    8700000\n",
              "353   720.0    6  ...                             Yamuna Vihar, Shahdara   22000000\n",
              "585  5500.0    6  ...                                 Safdarjung Enclave  160000000\n",
              "721  1200.0   10  ...  DDA Flats Sarita Vihar, Sarita Vihar, Mathura ...   17000000\n",
              "\n",
              "[8 rows x 6 columns]"
            ]
          },
          "metadata": {},
          "execution_count": 13
        }
      ]
    },
    {
      "cell_type": "code",
      "metadata": {
        "colab": {
          "base_uri": "https://localhost:8080/"
        },
        "id": "nR011Jv1uzB0",
        "outputId": "7411d252-da26-4e7a-c4f2-ab43c228143f"
      },
      "source": [
        "df3.Locality.unique()"
      ],
      "execution_count": null,
      "outputs": [
        {
          "output_type": "execute_result",
          "data": {
            "text/plain": [
              "array(['Rohini Sector 25', 'J R Designers Floors, Rohini Sector 24',\n",
              "       'Citizen Apartment, Rohini Sector 13', 'Rohini Sector 24',\n",
              "       'Rohini Sector 24 carpet area 650 sqft status Ready to Move floor 4 out of 4 floors transaction New Property furnishing Semi-Furnished facing East overlooking Garden/Park, Main Road car parking 1 Open bathroom 2 balcony 1 ownership Freehold Newly Constructed Property Newly Constructed Property East Facing Property 2BHK Newly build property for Sale. A House is waiting for a Friendly Family to make it a lovely home.So please come and make his house feel alive once again. read more Contact Agent View Phone No. Share Feedback Garima properties Certified Agent Trusted by Users Genuine Listings Market Knowledge',\n",
              "       'Delhi Homes, Rohini Sector 24', 'Rohini Sector 21',\n",
              "       'Rohini Sector 22', 'Rohini Sector 20',\n",
              "       'Rohini Sector 8 How Auctions work? The borrower has the physical possession of the Property. However the lender (Bank) can legally sell the Property. super area 32 sqm status Ready to Move floor 1 transaction Resale furnishing Semi-Furnished Contact Now Enquire Now Auction By',\n",
              "       'Rohini Sector 25 carpet area 660 sqft status Ready to Move floor 2 out of 4 floors transaction New Property furnishing Semi-Furnished facing North overlooking Garden/Park, Main Road car parking 1 Open bathroom 2 balcony 1 ownership Freehold Newly Constructed Property Newly Constructed Property Near by Ryan international school 2BHK Located on the Ground Floor of a four story building with open parking the flat measure 720 Sq Ft the property is located in a green and plush sector with common parks opposite every lane and bus and auto stand nearby. its situated 1.5 km from the metro station and walkable distance from shopping distance from shopping complex. read more Contact Agent View Phone No. Share Feedback Know your Certified Agent CRISIL Rating No of Employees 9 Kulwant & Company Certified Agent Trusted by Users Genuine Listings 5500+ Buyers Served',\n",
              "       'Rohini Sector 16', 'Rohini Sector 14',\n",
              "       'Mayur Apartment, Rohini Sector 9', 'Vijay Vihar, Rohini',\n",
              "       'Rohini Sector 18 carpet area 40 sqm status Ready to Move floor 2 out of 4 floors transaction Resale furnishing Furnished facing East overlooking Main Road car parking 2 Open bathroom 1 balcony 1 ownership Freehold East Facing Property It an LIG three side corner flat in second floor, having full scope of expansion. interior decorated with 2 textured wall , kajaria tiles , fully modular kitchen, branded bathroom and toilet fittings, LED panel, ac in one bedroom, false ceiling in entire flat.south facing unobstructed view balcony. It was all renovated only 2.5 yrs back so every thing is in brand new condition. read more Contact Owner View Phone No. Share Feedback Owner Pramod',\n",
              "       'Prashant Vihar, Rohini', 'Rohini Sector 5',\n",
              "       'Sanskriti Apartment, Rohini Sector 28', 'Rohini Sector 19',\n",
              "       'Lajpat Nagar 1', 'Lajpat Nagar', 'Vikram Vihar, Lajpat Nagar',\n",
              "       'Lajpat Nagar 4', 'Lajpat Nagar 3',\n",
              "       'Dayanand Colony, Lajpat Nagar How Auctions work? The borrower has the physical possession of the Property. However the lender (Bank) can legally sell the Property. super area 810 sqft status Ready to Move floor 1 out of 5 floors transaction Resale balcony 1 Contact Now Enquire Now Auction By Bank',\n",
              "       'Lajpat Nagar 2', 'Amar Colony, Lajpat Nagar',\n",
              "       'DDA Flats Sector 14, Dwarka Sector 14',\n",
              "       'Siddhartha Heights, Dwarka Sector 24',\n",
              "       'MTNL Employees House Welfare Society, Dwarka Sector 24',\n",
              "       'Delhi Homes Yojana, Dwarka Sector 24',\n",
              "       'The Elite Spire, Dwarka Sector 21',\n",
              "       'Kunj Vihar Apartment, Dwarka Sector 12',\n",
              "       'Ashirwad Apartments, Dwarka Sector 12',\n",
              "       'Sunny Valley Apartments, Dwarka',\n",
              "       'Shri Agrasen Apartment, Dwarka Sector 7',\n",
              "       'Chopra Apartment, Dwarka Sector 23',\n",
              "       'Mohinder Apartments, Dwarka Sector 12',\n",
              "       'Chander Lok Apartment, Dwarka Sector 19',\n",
              "       'Neelachal, Dwarka Sector 5', 'Dwarka',\n",
              "       'MeeraBai Apartment, Dwarka Sector 5',\n",
              "       'Crescent Apartments, Dwarka Sector 18',\n",
              "       'Ashoka Enclave Apartment, Dwarka Sector 11',\n",
              "       'Nav Kairali Apartment, Dwarka Sector 3',\n",
              "       'Ashirwad Apartments, Dwarka',\n",
              "       'Indraprastha Apartment, Dwarka Sector 12',\n",
              "       'Mohinder Apartments, Dwarka',\n",
              "       'Ashoka Apartments, Dwarka Sector 12',\n",
              "       'Karuna Vihar Apartment, Dwarka', 'LNT Apartments, Dwarka',\n",
              "       'Dwarka Sector 4',\n",
              "       'Dwarka Sector 3 carpet area 400 sqft status Ready to Move floor 1 out of 4 floors transaction New Property furnishing Semi-Furnished facing West overlooking Main Road bathroom 1 balcony 1 ownership Freehold Newly Constructed Property 1BHK freehold property , reserved parking, ample space for visitor parking, bathrooms with modern facilities, complete light in all room, wooden wardrobes in bedrooms, separate electric & water meter connection, separate water tank at roof, electronic door lock system with intercom facility, wall to wall POP work, fall ceiling work in all rooms, royal paint work in all rooms, 24X7 running water, branded electric fittings, modular kitchen with electronic chimney, marble vitrified tile flooring, near to metro station, well connected to main road ect. 80 to 90 home loan available. Ready to move read more Contact Agent View Phone No. Share Feedback Agent S.B. Associates 4000+ Buyers Served',\n",
              "       'Dwarka Sector 16B', 'Vinoba Puri, Lajpat Nagar', 'Budh Vihar',\n",
              "       'Budh Vihar super area 50 sqyrd status Ready to Move floor Ground out of 2 floors transaction Resale furnishing Unfurnished facing East car parking 1 Open bathroom 1 balcony 2 ownership Freehold For Sale 2 BHK 50 yrd, 2 side open Ground Floor, First and Second Floor in H Block, Gali No. 04, Near Laxmi Narain Mandir, BudhVihar read more Contact Agent View Phone No. Share Feedback Agent Sahyog Properties 1000+ Buyers Served',\n",
              "       'Budh Vihar Phase 1', 'Budh Vihar Phase 2',\n",
              "       'Saptrishi Apartment, Rohini Sector 23', 'Rohini Sector 23',\n",
              "       'Rohini ( 1 km from Shahbad Dairy, Rohini)',\n",
              "       'The Leela Sky Villas, Patel Nagar',\n",
              "       'Uttam Nagar Floors, Uttam Nagar', 'Virat Residency, Dwarka Mor',\n",
              "       'Find Homes, Greater Kailash 2', 'Adarsh Homes, Dwarka Mor',\n",
              "       'Kushwaha Homes, Uttam Nagar', 'Godrej South Estate, Okhla',\n",
              "       'APL Builder Floor, Greater Kailash 1', 'Janakpuri Block A3',\n",
              "       'Greater Kailash 2', 'Partap Homes, Bhagwati Vihar, Uttam Nagar',\n",
              "       'The Amaryllis, Karol Bagh',\n",
              "       'Diamond Heights Multi Estate, Najafgarh',\n",
              "       'Vasant Vihar Builder Floor, Vasant Vihar', 'Vasant Kunj',\n",
              "       'Greater Kailash 1', 'Khanpur, Madangir', 'Batla House, Okhla',\n",
              "       'Friends Colony West, New Friends Colony', 'New Friends Colony',\n",
              "       'Maharani Bagh, New Friends Colony',\n",
              "       'New Friends Colony carpet area 4300 sqft status Ready to Move floor 2 out of 3 floors transaction Resale furnishing Unfurnished facing North - East overlooking Garden/Park, Main Road car parking 2 Covered, 2 Open bathroom 4 balcony 3 ownership Freehold hurry up... dont waste time any where, It is best deal in your pocket budget.well maintained second floor with terrace garden plus 2 additional room on terrace up for sale in new friends colony.the property has 4 king sized bedroom attached bathroom with roof top shower with Jacuzzi. It has 3 big balconies with wonderful outer view. It has modular kitchen with new fittings. It has servant quarter pooja room study room store room etc. It has drawing & dining. It has 2 car parking with gated society. It has 247 hours water supply with full power backup. It is in amazing location. read more Contact Agent View Phone No. Share Feedback Crisil Silver Agent Sagar Home Developers Pvt. Ltd. 1000+ Buyers Served',\n",
              "       'Friends Colony East, New Friends Colony',\n",
              "       'Kalindi Colony, Maharani Bagh, New Friends Colony',\n",
              "       'Taimoor Enclave, New Friends Colony carpet area 2800 sqft status Ready to Move floor 2 out of 3 floors transaction Resale furnishing Semi-Furnished facing East overlooking Garden/Park society Taimoor Enclave car parking 2 Covered, 1 Open bathroom 4 balcony 2 ownership Freehold Two floor of the house is available for sale SECOND AND THIRD FLOOR EXTRA made, provision for LIFT can be provided by the OWNER .DDA FLATS of TAIMOOR ENCLAVE, NEAR GURUDWARA, NEW FRIENDS COLONY, SOUTH DELHI , HOUSE IS ON THE SECOND FLOOR have 3 bed room and 2 wash room and and same on the Third Floor, URGENT SALE, BROKER EXCUSE. read more Contact Agent View Phone No. Share Feedback Agent Delhi Homes 100+ Buyers Served',\n",
              "       'New Friends Colony Floors, New Friends Colony',\n",
              "       'Kailash Colony, Greater Kailash', 'Ram Nagar, Shahdara',\n",
              "       'Jyoti Nagar West, Shahdara',\n",
              "       'Hans Apartments, Vishwas Nagar, Shahdara',\n",
              "       'Naveen Shahdara, Shahdara', 'Balbir Nagar, Shahdara',\n",
              "       'Rohitash Nagar East, Shahdara', 'Shahdara',\n",
              "       'Vishwas Nagar, Shahdara',\n",
              "       'DDA RPS Flats, Mansarowar Park, Shahdara',\n",
              "       'Yamuna Vihar, Shahdara', 'Rohtash Nagar, Shahdara',\n",
              "       'Ram Nagar Extension, Shahdara', 'Maujpur, Shahdara',\n",
              "       'Mansarowar Park, Shahdara', 'Gorakh Park West, Shahdara',\n",
              "       'Shivnam Apartment, Shahdara', 'Jyoti Colony, Shahdara',\n",
              "       'Ahinsha Vatika, Ram Nagar, Shahdara',\n",
              "       'mind. The space is airy, is well located and can be easily customized as per the needs. Prime facilities are easily accessible from this place with Government Girls Senior Secondary School No 2 (0 km ). Other key neighbourhood are B Block Market (0 km ). read more Contact Owner View Phone No. Share Feedback Owner vinod kumar',\n",
              "       'Laxmi Nagar', 'Guru Angad Nagar West, Laxmi Nagar',\n",
              "       'Lalita Park, Laxmi Nagar', 'Krishan Kunj, Laxmi Nagar',\n",
              "       'Laxmi Nagar super area 450 sqft status Ready to Move floor 3 out of 4 floors transaction New Property furnishing Semi-Furnished facing East overlooking Main Road bathroom 2 balcony 1 ownership Freehold Newly Constructed Property East Facing Property This Builder Floor Apartment at 3rd faces East & overlooks Main Road offering a beautiful view from the house. with airy interiors. The type of ownership is Freehold. The Builder Floor Apartment is newly constructed. Bank loans available from LIC Housing Finance, Kotak Mahindra Bank, Indiabulls. Flooring of type Marble covers maximum part of the house. The location has easy access to, Dena Bank (0 km ), Delhi Convent School (0 km ), DDA Market (0 km ) and Nirman Vihar Metro Station (2 km ). read more Contact Owner View Phone No. Share Feedback Owner Sonia',\n",
              "       \"Laxmi Nagar carpet area 1000 sqft status Ready to Move floor 1 out of 4 floors transaction Resale furnishing Furnished bathroom 3 balcony 1 It's a 1st floor Builder Floor Apartment in a building of total 4 floors. The age of construction for this Builder Floor Apartment is between 10 to 15 years. The location has easy access to, Dena Bank (0 km ), Delhi Convent School (0 km ), DDA Market (0 km ) and Nirman Vihar Metro Station (2 km ). read more Contact Owner View Phone No. Share Feedback Owner Vipul Jain\",\n",
              "       'Bank Enclave, Laxmi Nagar', 'Uttam Nagar', 'Dwarka Mor',\n",
              "       'Uttam Nagar West', 'SB Residency, Dwarka Mor',\n",
              "       'Kiran Garden, Uttam Nagar', 'Mohan Garden, Razapur Khurd',\n",
              "       'Mitya Homes, Dwarka Mor',\n",
              "       'Uttam Nagar carpet area 550 sqft status Ready to Move transaction New Property furnishing Semi-Furnished facing East overlooking Main Road bathroom 2 balcony 1 ownership Freehold Newly Constructed Property Newly Constructed Property East Facing Property 2bhk fully furnished flats available for sale at uttam nagar, the flat is fully loaded, one singal wall texture in all bedrooms, modular kitchen, LED pannel in drawing room, wardrobes in bedroom read more Contact Agent View Phone No. Share Feedback Pranita Developers Pvt. Ltd. Certified Agent Trusted by Users Genuine Listings 100+ Buyers Served',\n",
              "       'New Uttam Nagar, Uttam Nagar', 'Patel Nagar South, Patel Nagar',\n",
              "       'Patel Nagar West', 'Patel Nagar East, Patel Nagar',\n",
              "       'Punjabi Basti, Patel Nagar', 'Baljit Nagar, Patel Nagar',\n",
              "       'DDA Flats Vasant Kunj, Vasant Kunj Sector B',\n",
              "       'DDA Flats Vasant Kunj, Vasant Kunj carpet area 1200 sqft status Ready to Move floor 5 out of 7 floors transaction Resale furnishing Semi-Furnished facing North - West overlooking Garden/Park, Main Road society DDA Flats Vasant Kunj car parking 1 Covered, 1 Open bathroom 2 balcony 2 ownership Freehold A southEAST facing 3 bhk resale flat is available in the promising locality of sectorE vasant kunj vasant kunj, delhi south. It is a ready to move in spacious flat and is located on the 5th floor. Every single detail of the flat is carefully designed. This property offers quality specifications such as lifts, park, water storage and securityfire alar. It is a gated society flat. It provides a spectacular view of the main road and parkgarden. The apartment is priced at rs. 2 cr. It is a freehold property, with a super builtUp area of 1600 sq. Ft. The property price is negotiable. read more Contact Agent Enquire Now Share Feedback Crisil Silver Agent Link Properties Pvt. Ltd. 5000+ Buyers Served',\n",
              "       'DDA Flats Vasant Kunj, Vasant Kunj',\n",
              "       'DDA Flats Pocket 1, Vasant Kunj Sector B',\n",
              "       'Saraswati Narmada Ganga Yamuna Apartment, Vasant Kunj Sector D',\n",
              "       'DDA Flats Sector E Pocket 1, Vasant Kunj',\n",
              "       'DDA Flats Vasant Kunj, Vasant Kunj Sector D',\n",
              "       'Vasant Kunj Sector A', 'E2 Vasant Kunj, Vasant Kunj',\n",
              "       'Ganga Apartment Sector D Pocket 6, Vasant Kunj',\n",
              "       'Vasant Kunj Sector C', 'Vasant Kunj Sector D',\n",
              "       'DDA Flats Vasant Kunj, Vasant Kunj Sector C',\n",
              "       'Kishangarh, Vasant Kunj', 'DDA Pocket 1, Vasant Kunj Sector D',\n",
              "       'Vasant Kunj Sector B',\n",
              "       'DDA Flats Mansarovar Park, Seelampur, Shahdara',\n",
              "       'Seelampur, Shahdara', 'Shanti Mohalla, Shahdara',\n",
              "       'Rajgarh Colony, Shahdara', 'Kanti Nagar East, Shahdara',\n",
              "       'Raghubarpura, Shahdara', 'Sukhdev Vihar, Okhla', 'Geeta Colony',\n",
              "       'Krishna Nagar Block A', 'Taj Enclave, Khairatabad',\n",
              "       'Shastri Park, Shahdara', 'Sitaram Bazar, Chandni Chowk',\n",
              "       'Shahdara How Auctions work? The borrower has the physical possession of the Property. However the lender (Bank) can legally sell the Property. super area 852 sqft status Ready to Move transaction Resale ownership Freehold bathroom 2 Contact Now Enquire Now Auction By',\n",
              "       'Saket', 'Anupam Enclave, Saket', 'RWA Flats, Saket',\n",
              "       'Metrotech Builder Floors, Saket',\n",
              "       'Saket Court Residential Complex, Saket',\n",
              "       'Press Enclave Society, Saket',\n",
              "       'Project Paryavaran Complex, Saket', 'Safdarjung Enclave',\n",
              "       'Arjun Nagar, Safdarjung Enclave',\n",
              "       \"Safdarjung Enclave carpet area 1100 sqft status Ready to Move floor Ground out of 4 floors transaction Resale furnishing Unfurnished facing North - East overlooking Garden/Park, Main Road car parking 1 Covered, 1 Open bathroom 3 balcony 3 ownership Freehold if you are searching for your dream house, congratulation. you're not so far from your destiny. we got unbeatable ground floor in b-block safdarjung enclave for sale. it is in 150 yds. It has 3 large king sized bedroom attached bathroom with Jacuzzi and roof top shower with all other fittings. it has modular kitchen with all needed facility. it has 3 big balcony with amazing out side view. it has 1 servant quarter also. it has 1 reserved car parking with gated society. It has 24*7 water supply with full power backup. for more information contact us at once because it can be your dream house. read more Contact Agent View Phone No. Share Feedback Crisil Silver Agent Sagar Home Developers Pvt. Ltd. 1000+ Buyers Served\",\n",
              "       'Krishna Nagar-Safdarjung Enclave',\n",
              "       'Safdarjung Enclave carpet area 3250 sqft status Ready to Move floor 1 out of 4 floors transaction Resale furnishing Semi-Furnished facing North - East overlooking Garden/Park, Main Road car parking 1 Covered bathroom 4 balcony 3 ownership Freehold Near Buy Green park Metro station. The location of the property is Awesome and Peaceful. The construction is very Highend and Very tasteful Done-up. The Same property is location on the FF. 4 Side corner read more Contact Agent Enquire Now Share Feedback Crisil Silver Agent Findahouse Real Estate Consultants LLP 2000+ Buyers Served',\n",
              "       'Safdarjung Enclave carpet area 290 sqyrd status Ready to Move floor 2 out of 3 floors transaction Resale furnishing Semi-Furnished facing West overlooking Main Road car parking 2 Open bathroom 4 balcony 3 ownership Freehold Opposite Deer Park.The property comes with independent Terrace. The area is centrally located and close to ring road which allows easy acess to all other areas.Renowned Delhi Lawn Tennis Association is within 10 minutes walking distance.Green park market is walkable distance. read more Contact Owner View Phone No. Share Feedback Owner Hemant pajankar',\n",
              "       'Safdarjung Enclave carpet area 1450 sqft status Ready to Move floor 3 out of 4 floors transaction Resale furnishing Semi-Furnished facing North - East overlooking Garden/Park, Main Road car parking 1 Covered, 1 Open bathroom 3 balcony 2 ownership Freehold Park facing builder floor apartment available for sale in safderjung enclave, 3 bedroom with attached bathroom, drawing dinning, modular kitchen. the property is on the top floor of a four storey building with terrace right, servant quarter, 1 car parking in stilt. read more Contact Agent View Phone No. Share Feedback Agent Delhi Homes Realty 1000+ Buyers Served',\n",
              "       'Safdarjung Enclave super area 2200 sqft status Ready to Move floor 2 out of 4 floors transaction New Property furnishing Semi-Furnished facing South overlooking Main Road car parking 3 Covered, 2 Open bathroom 4 balcony 3 ownership Freehold Newly Constructed Property Wide Road 450 Yards 2nd floor brand new 4 bhk attached bathrooms with full lighted and ventilated house.Most Valuable DealSEE TO BELIEVE read more Contact Agent View Phone No. Share Feedback Crisil Bronze Agent Panchsheel Homes 500+ Buyers Served',\n",
              "       'Reserve Bank Enclave, Paschim Vihar', 'Paschim Vihar',\n",
              "       'Pushkar Enclave, Paschim Vihar', 'Paschim Vihar Block B2',\n",
              "       'Paschimpuri, Paschim Vihar', 'Paschim Vihar Block B4',\n",
              "       'Paschim Vihar How Auctions work? The borrower has the physical possession of the Property. However the lender (Bank) can legally sell the Property. carpet area 780 sqft status Ready to Move floor Ground out of 3 floors transaction Resale furnishing Unfurnished facing West bathroom 2 balcony 1 ownership Freehold Contact Now Enquire Now Auction By Bank',\n",
              "       'DDA Lig Flats, Paschim Vihar carpet area 45 sqyrd status Ready to Move floor 4 out of 4 floors transaction Resale furnishing Semi-Furnished facing East overlooking Garden/Park, Main Road society DDA Lig Flats bathroom 1 balcony 1 ownership Freehold East Facing Property Expected price for the Flat is kept at 45 Lac. This is a 1 bedroom apartment present in DDA Lig Flats, Paschim Vihar. It measures an area of 45 Sq-m. It is on 4 floor out of 4 floors in the tower and is also well ventilated. The Flat has 1 washroom and also has 1 spacious balcony. read more Contact Owner View Phone No. Share Feedback Owner Anil',\n",
              "       'Archana Apartment, Paschim Vihar',\n",
              "       'Guru Harikishan Nagar, Paschim Vihar',\n",
              "       'Mianwali Nagar, Paschim Vihar',\n",
              "       'Navbharat Apartment, Paschim Vihar Block B1',\n",
              "       'Paschim Vihar Block A2', 'LIC Colony, Paschim Vihar',\n",
              "       'DDA Lig Flats, Paschim Vihar',\n",
              "       'Paschim Vihar carpet area 850 sqft status Ready to Move floor 2 out of 4 floors transaction Resale furnishing Unfurnished facing North overlooking Garden/Park bathroom 3 balcony 1 ownership Freehold If you want to live a contended, pollution-free and peaceful life with your family and children, here is the once in a lifetime opportunity awaiting your attention!! Presenting a 3BHK ready to move flat up for sale in Paschim Vihar, which is becoming a dream residential area for its ability to provide a slice of authentic New Delhi city life. Property SpecificationsWell-knitted and planned on the super area of 900 sq ft is this 2bhk flat where the owner enjoys the complete rights of the freehold ownership. In a low-rise building of four-floors, this impressive infrastructure is positioned on the second floor, hence the residents can experience the greatest possible cross ventilation and natural sunlight.Though the age of construction is between 15-20 years, this north-facing flat is perfectly maintained and features 3 spacious bedrooms, 2 bathrooms, 2 airy balconies, a dining room, a living room, and a kitchen. All the bedrooms are adorned with decorative wardrobes offered with enough space for storage of clothes and other valuables.The attached toilet is designed in Indian fashion which is mounted-up with a geyser where you can enjoy a hot water bath, while the bathroom available for common use fashioned in the western genre.Further, an eye-catching view of the lush green garden is visible from the two well-aligned balconies where you can enjoy a hot cup of tea, where one balcony is connected to the bedroom, while the other balcony opens to the lobby. Bedecked with a granite countertop, a piped gas connection, and a chimney, the contemporarily designed modular kitchen is also provided with a wash area and also sufficient space for fridge.The entire flat is polished up with the good quality tiles which are easy to install and can be quite pleasant and comfortable underfoot.FacilitiesKeeping in mind the convenience of the residents, some of the basic facilities such as an unrestricted supply of water, and power backup with invertor. Additionally, one open parking space for 1 vehicle read more Contact Owner Share Feedback Owner Yogeet',\n",
              "       'Shubh Niketan, Paschim Vihar',\n",
              "       'Ashoka Apartment, Paschim Vihar Block A2',\n",
              "       'Sunder Apartments, Sunder Vihar, Paschim Vihar',\n",
              "       'Rajasthan Apartment, Aashirwaad Chowk, Dwarka',\n",
              "       'Gold Croft Apartment, Aashirwaad Chowk, Dwarka',\n",
              "       'Chanakya Apartments, Aashirwaad Chowk, Dwarka',\n",
              "       'Bank Apartments, Aashirwaad Chowk, Dwarka carpet area 1550 sqft status Ready to Move floor 7 out of 7 floors transaction Resale furnishing Semi-Furnished facing North - East overlooking Garden/Park, Main Road society Bank Apartments car parking 1 Covered, 1 Open bathroom 2 balcony 3 ownership Freehold A spacious 3 Bedroom flat is available for sale in Dwarka , New Delhi.it is cornor building plenty of sunlight and airy. It is located on the 2 Floor. It has a covered area of 1500 Sq-ft. The flat has vitrified tiles & Mosiac flooring. The flat has 24 Hours Available water supply and No/Rare Powercut.. The property is fantastically located and is much sought-after. The property is available at a very competitive Price. read more Contact Agent View Phone No. Share Feedback Sikka Realtors Has Maximum Property Options Is the Top Agent of the Locality Is Trusted by All Users CRISIL Rating No of employees 12 Sikka Realtors Certified Agent Locality Superstar Aashirwaad Chowk, Dwarka 2500+ Buyers Served',\n",
              "       'Mohinder Apartments, Aashirwaad Chowk, Dwarka',\n",
              "       'Bank Apartments, Aashirwaad Chowk, Dwarka',\n",
              "       'Aashirwaad Chowk, Dwarka',\n",
              "       'Saheta Apartment, Aashirwaad Chowk, Dwarka',\n",
              "       'Pushpanjali Apartments, Aashirwaad Chowk, Dwarka',\n",
              "       'Green Heavens Apartment, Aashirwaad Chowk, Dwarka',\n",
              "       'Hum Sub Apartment, Aashirwaad Chowk, Dwarka',\n",
              "       'Defence Officers Apartment, Aashirwaad Chowk, Dwarka',\n",
              "       'Sanchar Vihar Apartment, Aashirwaad Chowk, Dwarka',\n",
              "       'Sarve Satyam Apartment, Aashirwaad Chowk, Dwarka',\n",
              "       'Palm Green Apartment, Aashirwaad Chowk, Dwarka',\n",
              "       'Neelachal, Aashirwaad Chowk, Dwarka',\n",
              "       'Kailash Apartments, Aashirwaad Chowk, Dwarka',\n",
              "       'New Jyoti Apartments, Aashirwaad Chowk, Dwarka',\n",
              "       'PNB Employees Apartment, Aashirwaad Chowk, Dwarka',\n",
              "       'Sadbhawna CGHS, Aashirwaad Chowk, Dwarka',\n",
              "       'Commonwealth Games Village 2010',\n",
              "       'Common Wealth Games Village, Commonwealth Games Village 2010',\n",
              "       'Project Commonwealth Games Village 2010, Akshardham Temple',\n",
              "       'Project Commonwealth Games Village 2010, Commonwealth Games Village 2010',\n",
              "       'Alaknanda', 'Shivalik Apartments, Alaknanda',\n",
              "       'Narmada Apartment, Alaknanda', 'Gangotri Enclave, Alaknanda',\n",
              "       'Aravali Apartments, Alaknanda', 'Tara Apartment, Alaknanda',\n",
              "       'Narmada Apartment, Alaknanda carpet area 1400 sqft status Ready to Move floor Ground out of 3 floors transaction Resale furnishing Furnished facing North - East overlooking Garden/Park, Main Road society Narmada Apartment car parking 1 Open bathroom 3 balcony 1 ownership Freehold Near Alaknanda Main Market & Greater Kailash Metro Station. A very good 3 bhk flat for sale in rwa Narmada Apartment, delhi south. It is a superb property and offers an excellent view. The flat is unfurnished. It promises a comfortable stay. It is feng shuivaastu compliant, which is considered to bring positive energy. The appeal of the flat has been increased with the availability of a pipedGa. Indeed, the society too has multiple facilities for enjoyment, such as club housecommunity center and fitness centregym etc. It also has rain water harvesting system. It has a super builtUp area of 180 sq. Yards. read more Contact Agent View Phone No. Share Feedback Agent Sulabh Estate',\n",
              "       'Greater Kailash 4 Nri Colony',\n",
              "       'Project Gangotri Enclave, Alaknanda',\n",
              "       'Project Gangotri Enclave, Gangotri Enclave, Alaknanda',\n",
              "       'Nilgiri Apartment, Alaknanda', 'Yamuna Apartment, Alaknanda',\n",
              "       'Tara Apartment, Alaknanda carpet area 1400 sqft status Ready to Move floor 2 out of 3 floors transaction Resale furnishing Furnished facing North - East overlooking Garden/Park society Tara Apartment car parking 1 Covered, 1 Open bathroom 3 balcony 4 ownership Freehold Near Alaknanda Main Market, Jamia Humderd University & Batra hospital. A very good 3 bhk flat for sale in rwa Tara Apartment, delhi south. It is a superb property and offers an excellent view. The flat is unfurnished. It promises a comfortable stay. It is feng shuivaastu compliant, which is considered to bring positive energy. The appeal of the flat has been increased with the availability of a pipedGa. Indeed, the society too has multiple facilities for enjoyment, such as club housecommunity center and fitness centregym etc. It also has rain water harvesting system. It has a super builtUp area of 180 sq. Yards. Other f read more Contact Agent View Phone No. Share Feedback Agent Sulabh Estate',\n",
              "       'DDA Flats, Sarita Vihar, Mathura Road carpet area 1600 sqft status Ready to Move floor 1 out of 4 floors transaction Resale furnishing Semi-Furnished facing North - East overlooking Main Road society DDA Flats car parking 2 Open bathroom 2 balcony 2 ownership Freehold For sale First second third duplex in sarita vihar DDA Flates . this house free hold property clear titel . this flate well maintained and spacious peacefull location . no issue light water and parking read more Contact Agent View Phone No. Share Feedback Shree Balaji Real Estate Pvt. Ltd. Has Maximum Property Options Is the Top Agent of the Locality Is Trusted by All Users 21 Property Options in Sarita Vihar, Mathura Road Shree Balaji Real Estate Pvt. Ltd. Certified Agent Locality Superstar Maximum options in Sarita Vihar, Mathura Road',\n",
              "       'DDA Flats Sarita Vihar, Sarita Vihar, Mathura Road',\n",
              "       'DDA Flats, Sarita Vihar, Mathura Road carpet area 1600 sqft status Ready to Move floor Ground out of 4 floors transaction Resale furnishing Semi-Furnished facing North - West overlooking Main Road society DDA Flats car parking 1 Open bathroom 2 balcony 2 ownership Freehold For slae Ground First Duplex in sarita vihar .posh locality in south delhi DDa coloney . This house spacious 4 bedrooms with 2 washrooms drawing and dinning . free hold proerty clear titel . near by all amnites . well develop location . read more Contact Agent View Phone No. Share Feedback Shree Balaji Real Estate Pvt. Ltd. Has Maximum Property Options Is the Top Agent of the Locality Is Trusted by All Users 21 Property Options in Sarita Vihar, Mathura Road Shree Balaji Real Estate Pvt. Ltd. Certified Agent Locality Superstar Maximum options in Sarita Vihar, Mathura Road',\n",
              "       'DDA Flats Sarita Vihar, Sarita Vihar Pocket K',\n",
              "       'Sidharth Enclave, Kilokri, Ring Road', 'Sarita Vihar Pocket B',\n",
              "       'Sarita Vihar Pocket F',\n",
              "       'DDA Flats, Sarita Vihar, Mathura Road carpet area 1150 sqft status Ready to Move floor 3 out of 3 floors transaction Resale furnishing Semi-Furnished facing North - East overlooking Main Road society DDA Flats car parking 2 Open bathroom 2 balcony 3 ownership Freehold 2 BHK flat available for sale in sarita vihar excellent interiors flooring in all bedrooms complete wood work modular kitchen beautiful bathrooms extremely well maintained ample parking space read more Contact Agent View Phone No. Share Feedback Lavish Associates Certified Agent Trusted by Users Genuine Listings Market Knowledge',\n",
              "       'New Manglapuri, Sultanpur', 'Sultanpur Extension', 'Sultanpur',\n",
              "       'Manglapuri, Sultanpur', 'Indra Park Palam, Manglapuri',\n",
              "       'Sultanpur carpet area 1100 sqft status Ready to Move floor 1 out of 4 floors transaction Resale furnishing Semi-Furnished overlooking Main Road car parking 1 Covered bathroom 2 balcony 2 ownership Freehold 2 bhk flat available in sultanpur, near metro station, loan facility available, with registry, all the modern facilities are variable, with car parking, near market, fully ventilated. read more Contact Agent View Phone No. Share Feedback Agent Delhi Dream 3500+ Buyers Served',\n",
              "       'Chhattarpur',\n",
              "       \"Chhattarpur carpet area 400 sqyrd status Ready to Move transaction New Property furnishing Semi-Furnished car parking 1 Covered, 1 Open bathroom 2 balcony 1 Newly Constructed Property It's a Ground floor Builder Floor Apartment in a building of total 4 floors. The Builder Floor Apartment is newly constructed. Prime facilities are easily accessible from this place with Oxford Angel Public School (0 km ). Other key neighbourhood are Abdul Gaffar Khan Market (0 km ). read more Contact Agent View Phone No. Share Feedback Home Hunt Has Maximum Property Options Is the Top Agent of the Locality Is Trusted by All Users 4 Property Options in Chhattarpur CRISIL Rating Operating Since 2011 No of employees 5 Home Hunt Certified Agent Locality Superstar Chhattarpur 500+ Buyers Served\",\n",
              "       'JVTS Gardens, Chhattarpur', 'Chhattarpur Enclave Phase2',\n",
              "       'DLF Chattarpur Farms, Chhattarpur', 'Aravali Tower, Chhattarpur',\n",
              "       'Mehrauli',\n",
              "       'Mehrauli carpet area 1300 sqft status Ready to Move floor 2 out of 4 floors transaction New Property furnishing Semi-Furnished facing East overlooking Garden/Park, Main Road car parking 2 Covered bathroom 3 balcony 2 ownership Freehold 3 bhk flat with attached washroom, modular kitchen, IInd floor, one car and one bike parking, lift, gated society, security, cctv camera, water backup. read more Contact Agent View Phone No. Share Feedback Agent India Bhoomi',\n",
              "       'Andheria Mor, Mehrauli',\n",
              "       'Mehrauli carpet area 1250 sqft status Ready to Move floor Ground out of 8 floors transaction Resale furnishing Semi-Furnished facing East overlooking Main Road car parking 1 Covered bathroom 2 balcony 3 ownership Freehold The flat located are very good condition and well developed area. The flat area are very spaciable. This flat balcony view is very best society very neat and clean. read more Contact Agent View Phone No. Share Feedback Agent Bharti Real Estate 100+ Buyers Served',\n",
              "       'Brijwasi Colony, Mehrauli', 'Mahavir Enclave',\n",
              "       'Mahavir Enclave Part 1',\n",
              "       'Mahavir Enclave Part 1 carpet area 1000 sqft status Ready to Move floor 2 out of 4 floors transaction Resale furnishing Semi-Furnished facing East car parking 1 Covered bathroom 2 balcony 2 East Facing Property this property is for sale purpose.......................... Contact Owner View Phone No. Share Feedback Owner Twinkle Sudan',\n",
              "       'Mahavir Enclave carpet area 565 sqft status Ready to Move floor Ground out of 1 floor transaction Resale furnishing Unfurnished facing East car parking 1 Covered bathroom 2 balcony 1 ownership Freehold East Facing Property This Freehold Builder Floor Apartment is located at Ground floor in a building of total 1 floors. The age of construction for this apartment Builder Floor Apartment is Less than 5 years. High quality flooring of types Granite are available in different rooms. read more Contact Owner View Phone No. Share Feedback Owner Adesh Sah',\n",
              "       'Mahavir Enclave Part 3', 'Vijay Enclave, Mahavir Enclave',\n",
              "       'Narela Sector A1 carpet area 42 sqyrd status Ready to Move floor Ground out of 5 floors transaction Resale furnishing Unfurnished facing North - East overlooking Garden/Park, Main Road car parking 2 Open bathroom 2 balcony 2 ownership Freehold Near bawana industrial area and j.j. colony. DDA Housing property LIG FLAT very nice property for single family 200 hundreds family already living IN THIS SOCIETY and very piece full atmosphere this society 24 hour guards all facility available read more Contact Owner View Phone No. Share Feedback Owner Vivek Gupta',\n",
              "       'DDA Flats Pocket 6 Sector A10, Narela',\n",
              "       'DDA Flats Pocket 1 Sector A9, Narela',\n",
              "       'DDA Janta Flats, Tikri Khurd Sector B2, Narela', 'Narela',\n",
              "       'DDA Lig Flats, Narela', 'DDA Flats Pocket 3, Narela',\n",
              "       'DDA Pocket H, Narela', 'Narela Mandi', 'Bhorgarh, Narela',\n",
              "       'Narela Sector A9', 'Narela Sector A5', 'Malviya Nagar',\n",
              "       'Shivalik, Malviya Nagar', 'Geetanjali Enclave, Malviya Nagar',\n",
              "       'Geetanjali Enclave Project, Geetanjali Enclave, Malviya Nagar',\n",
              "       'Khirki extension, Malviya Nagar',\n",
              "       \"Malviya Nagar carpet area 100 sqyrd status Ready to Move floor 2 out of 3 floors transaction Resale furnishing Semi-Furnished facing North overlooking Garden/Park, Main Road car parking 2 Open bathroom 3 balcony 2 ownership Freehold It's a Corner three story building, located in South Delhi. Amenities like Market, Schools, Hospitals, Parks, Gyms, Study Centers, Temple are all around. Very Close to Malviya Nagar Metro and Haus Khas Metro Station. Centerlize place to live. Whether you go to Gurgaon or Noida Or to other parts of the city, commuting from here is very easy. read more Contact Owner View Phone No. Share Feedback Owner Rohit\",\n",
              "       'Dilshad Colony, Dilshad Garden',\n",
              "       'Guru Teg Bahadur Enclave, Dilshad Garden',\n",
              "       'Dilshad Garden carpet area 1500 sqft status Ready to Move floor 2 out of 4 floors transaction Resale furnishing Unfurnished bathroom 1 balcony 2 Mig dda flat located at a very prime location near to market, school, hospital, metro station etc. Contact Owner View Phone No. Share Feedback Owner R',\n",
              "       'DDA Flats Block A, Dilshad Garden', 'Dilshad Garden',\n",
              "       'DDA Pocket JK, Dilshad Garden', 'DDA Pocket E, Dilshad Garden',\n",
              "       'DDA Flats Pocket O, Dilshad Garden',\n",
              "       'DDA Pocket I, Dilshad Garden', 'Vasundhara Enclave',\n",
              "       'Samrat Apartment, Vasundhara Enclave',\n",
              "       'Mangal Apartment, Vasundhara Enclave carpet area 1600 sqft status Ready to Move floor 4 out of 7 floors transaction Resale furnishing Furnished facing South - East overlooking Garden/Park, Main Road society Mangal Apartment car parking 1 Open bathroom 3 balcony 1 ownership Freehold Fully furnished , complete marble flooring, ready to move in. Contact Owner View Phone No. Share Feedback Owner Shailendra',\n",
              "       'Prayag Apartments, Vasundhara Enclave carpet area 900 sqft status Ready to Move floor 2 out of 4 floors transaction Resale furnishing Semi-Furnished overlooking Garden/Park, Main Road society Prayag Apartments car parking 1 Open bathroom 2 balcony 2 ownership Freehold This is 2 BHK apartment , with 2 Bathroom and one parking.This is East facing Flat.Near Metro Station is Ashok Nagar read more Contact Owner View Phone No. Share Feedback Owner Sameer Kumar',\n",
              "       'Abhimanyu Apartments, Vasundhara Enclave',\n",
              "       'Fancy Apartments, Vasundhara Enclave',\n",
              "       'Shantidoot Apartment, Vasundhara Enclave',\n",
              "       'Mangal Apartment, Vasundhara Enclave',\n",
              "       'Satyam Apartment, Vasundhara Enclave',\n",
              "       'Anekant Apartment, Vasundhara Enclave',\n",
              "       'New Delhi Apartment, Vasundhara Enclave',\n",
              "       'Mahesh Apartment, Vasundhara Enclave',\n",
              "       'Pawittra Apartment, Vasundhara Enclave',\n",
              "       'Capital Apartment, Vasundhara Enclave',\n",
              "       'Hindon Apartment, Vasundhara Enclave',\n",
              "       'Gobind Apartment, Vasundhara Enclave',\n",
              "       'Abul Fazal Enclave Part 1, Okhla',\n",
              "       'Godrej South Estate, Okhla Phase 1',\n",
              "       'Abul Fazal Enclave Part-II, Okhla', 'Jamia Nagar, Okhla',\n",
              "       'Zakir Nagar, New Friends Colony',\n",
              "       'Batla House Project, Batla House, Okhla', 'Dev Nagar, Karol Bagh',\n",
              "       'Beadon Pura, Karol Bagh How Auctions work? The borrower has the physical possession of the Property. However the lender (Bank) can legally sell the Property. carpet area 148 sqyrd status Ready to Move floor 3 out of 3 floors transaction Resale furnishing Semi-Furnished bathroom 2 balcony 3 ownership Freehold Contact Now Enquire Now Auction By Bank',\n",
              "       'DDA Mig Flat, Prasad Nagar, Karol Bagh', 'Karol Bagh',\n",
              "       'Prasad Nagar, Karol Bagh',\n",
              "       'DDA MIG Flats Prasad Nagar Phase 2, Prasad Nagar, Karol Bagh',\n",
              "       'Karol Bagh carpet area 1600 sqft status Ready to Move floor 3 out of 3 floors transaction New Property furnishing Semi-Furnished facing East overlooking Garden/Park, Main Road car parking 1 Covered, 1 Open bathroom 3 balcony 2 ownership Freehold Near to Karol Bagh Metro station...................................... Its a very peaceful location ....................................................................................................................... read more Contact Agent View Phone No. Share Feedback Agent S R B Properties',\n",
              "       'DLF Capital Greens, Moti Nagar, Kirti Nagar ( 1 km from New Moti Nagar, Kirti Nagar)',\n",
              "       'DLF Capital Greens, New Moti Nagar, Kirti Nagar',\n",
              "       'New Moti Nagar, Kirti Nagar', 'Sheikh Sarai Phase 1',\n",
              "       'Sheikh Sarai', 'Sheikh Sarai Phase 2',\n",
              "       'Savitri Nagar Village, Sheikh Sarai',\n",
              "       'Panchsheel Vihar, Sheikh Sarai',\n",
              "       'Apna Apartments, Savitri Nagar Village, Sheikh Sarai',\n",
              "       'Punjabi Bagh Enclave, Punjabi Bagh West', 'Punjabi Bagh',\n",
              "       'Punjabi Bagh West',\n",
              "       'Punjabi Bagh Enclave, Shivaji Park, Punjabi Bagh',\n",
              "       'Punjabi Bagh Extension, Punjabi Bagh',\n",
              "       'DLF Capitals Phase III, Shivaji Park, Punjabi Bagh',\n",
              "       'Punjabi Bagh Enclave, Punjabi Bagh',\n",
              "       'Punjabi Bagh Enclave, Madipur, Punjabi Bagh',\n",
              "       'Bhagwan Das Nagar, Punjabi Bagh', 'Punjabi Bagh East',\n",
              "       'Pal Mohan Apartments, Punjabi Bagh',\n",
              "       'Govindpuri Extension, Kalkaji', 'Kalkaji',\n",
              "       'DDA LIG Flat, Kalkaji', 'Giri Nagar, KalkaJi',\n",
              "       'Rishi Apartment, Kalkaji', 'Deshbandhu Apartments, Kalkaji',\n",
              "       'Dda Janta Flats, Kalkaji',\n",
              "       'Kalkaji super area 800 sqft status Ready to Move floor 3 out of 4 floors transaction Resale furnishing Semi-Furnished facing North - West overlooking Garden/Park, Main Road car parking 1 Open bathroom 2 balcony 2 ownership Freehold 2 bhk flat for sale in kalkaji this is third floor with 2 bed room and bathrooms very peace full location and posh. The Summer Fields School is considered as among the best school of New Delhi and is located just beside to this property. Within the range of 4-5km, you will find some of the well-equipped hospitals which include AIMS Hospital and Moolchand Hospital.for more information about this flat please call me feel free. read more Contact Agent View Phone No. Share Feedback Agent Rose Estate 100+ Buyers Served',\n",
              "       'Kalkaji Extention',\n",
              "       'Kalkaji super area 1000 sqft status Ready to Move floor 2 out of 3 floors transaction Resale furnishing Semi-Furnished facing North - West overlooking Garden/Park, Main Road car parking 1 Covered, 1 Open bathroom 2 balcony 2 ownership Freehold Very beautiful 3 bedroom with attached washroom , drawing dining , modular kitchen , ac , servant room , power backup, powder room, separate underground and overhead water tanks, walking distance to market , easy access to ring road . For more details and site visit please contact cosmo properties. read more Contact Agent View Phone No. Share Feedback Agent Zee Associates',\n",
              "       'Mandakini Enclave Project, Kalkaji',\n",
              "       'Deshbandhu Apartments, Kalkaji carpet area 1300 sqft status Ready to Move floor 3 out of 4 floors transaction Resale furnishing Unfurnished facing North - East overlooking Garden/Park, Main Road society Deshbandhu Apartments car parking 1 Covered, 1 Open bathroom 2 balcony 2 ownership Freehold Third Floor with terrace 3 bhk builder floor apartment with 2 attached bathrooms located in kalkaji Deshbandu apartment . all water and electrical connections installed, very spacious drawing room , 2 balconies in front and rear each dedicated parking spot for 1 car. extra parking space available for additional cars, Immediately for sale , read more Contact Agent View Phone No. Share Feedback Agent Bhawani Realtors',\n",
              "       'Hauz Khas', 'Hauz Khas Apartment, Hauz Khas Enclave, Hauz Khas',\n",
              "       'Sarva Priya Apartment, Hauz Khas', 'Hauz Khas Enclave, Hauz Khas',\n",
              "       'Safdarjung Development Area, Hauz Khas',\n",
              "       'Mayfair garden, Hauz Khas', 'Orchid Metropolis, Hauz Khas',\n",
              "       'Sarva Priya Apartment, Hauz Khas carpet area 1700 sqft status Ready to Move floor 1 out of 7 floors transaction Resale furnishing Semi-Furnished facing North - East overlooking Garden/Park society Sarva Priya Apartment car parking 1 Covered, 1 Open bathroom 3 balcony 2 ownership Freehold desperarte sale ,its clear tile, proper cross ventilation ,proper an matter for one week ,crystle sunlight found, and air,ICIC BANK LOAN APPROVAL, good to see , have lucky chance to get such a reraly rare property read more Contact Agent View Phone No. Share Feedback Agent New Capital Properties 1000+ Buyers Served',\n",
              "       'Chittaranjan Park', 'Arya Chittaranjan Park, Chittaranjan Park',\n",
              "       'Chittaranjan Park carpet area 1200 sqft status Ready to Move floor 2 out of 4 floors transaction New Property furnishing Semi-Furnished facing North - East overlooking Garden/Park bathroom 3 balcony 2 ownership Freehold Newly Constructed Property Newly Constructed Property brand new 1st floor 3bedroom attach bathrooms stilt car parking modular kitchen air condition prime location c r park read more Contact Agent View Phone No. Share Feedback Nirmala Associates Certified Agent Trusted by Users Genuine Listings 1500+ Buyers Served',\n",
              "       'Chittaranjan Park carpet area 270 sqyrd status Ready to Move floor 2 out of 4 floors transaction Resale furnishing Furnished facing North - East overlooking Garden/Park, Main Road car parking 5 Open bathroom 4 balcony 3 ownership Freehold 3 Side Open, Fully ventilated, Close to Market, Above Bank and 24 x 7 ATM because of which good security. Elite Neighbor hood. Very good for Rental Income. Also can be used for commercial Office Purpose by Advocates. read more Contact Owner View Phone No. Share Feedback Owner Mayur Mayur Aggarwal',\n",
              "       'Nehru Enclave, Kalkaji', 'Chittaranjan Park Block A'],\n",
              "      dtype=object)"
            ]
          },
          "metadata": {},
          "execution_count": 14
        }
      ]
    },
    {
      "cell_type": "code",
      "metadata": {
        "colab": {
          "base_uri": "https://localhost:8080/",
          "height": 394
        },
        "id": "LjALod9vvIVS",
        "outputId": "33d750c8-3e4f-45b8-892e-c96f9f3c0df9"
      },
      "source": [
        "df3.head(11)"
      ],
      "execution_count": null,
      "outputs": [
        {
          "output_type": "execute_result",
          "data": {
            "text/html": [
              "<div>\n",
              "<style scoped>\n",
              "    .dataframe tbody tr th:only-of-type {\n",
              "        vertical-align: middle;\n",
              "    }\n",
              "\n",
              "    .dataframe tbody tr th {\n",
              "        vertical-align: top;\n",
              "    }\n",
              "\n",
              "    .dataframe thead th {\n",
              "        text-align: right;\n",
              "    }\n",
              "</style>\n",
              "<table border=\"1\" class=\"dataframe\">\n",
              "  <thead>\n",
              "    <tr style=\"text-align: right;\">\n",
              "      <th></th>\n",
              "      <th>Area</th>\n",
              "      <th>BHK</th>\n",
              "      <th>Bathroom</th>\n",
              "      <th>Furnishing</th>\n",
              "      <th>Locality</th>\n",
              "      <th>Price</th>\n",
              "    </tr>\n",
              "  </thead>\n",
              "  <tbody>\n",
              "    <tr>\n",
              "      <th>0</th>\n",
              "      <td>800.0</td>\n",
              "      <td>3</td>\n",
              "      <td>2.0</td>\n",
              "      <td>Semi-Furnished</td>\n",
              "      <td>Rohini Sector 25</td>\n",
              "      <td>6500000</td>\n",
              "    </tr>\n",
              "    <tr>\n",
              "      <th>1</th>\n",
              "      <td>750.0</td>\n",
              "      <td>2</td>\n",
              "      <td>2.0</td>\n",
              "      <td>Semi-Furnished</td>\n",
              "      <td>J R Designers Floors, Rohini Sector 24</td>\n",
              "      <td>5000000</td>\n",
              "    </tr>\n",
              "    <tr>\n",
              "      <th>2</th>\n",
              "      <td>950.0</td>\n",
              "      <td>2</td>\n",
              "      <td>2.0</td>\n",
              "      <td>Furnished</td>\n",
              "      <td>Citizen Apartment, Rohini Sector 13</td>\n",
              "      <td>15500000</td>\n",
              "    </tr>\n",
              "    <tr>\n",
              "      <th>3</th>\n",
              "      <td>600.0</td>\n",
              "      <td>2</td>\n",
              "      <td>2.0</td>\n",
              "      <td>Semi-Furnished</td>\n",
              "      <td>Rohini Sector 24</td>\n",
              "      <td>4200000</td>\n",
              "    </tr>\n",
              "    <tr>\n",
              "      <th>4</th>\n",
              "      <td>650.0</td>\n",
              "      <td>2</td>\n",
              "      <td>2.0</td>\n",
              "      <td>Semi-Furnished</td>\n",
              "      <td>Rohini Sector 24 carpet area 650 sqft status R...</td>\n",
              "      <td>6200000</td>\n",
              "    </tr>\n",
              "    <tr>\n",
              "      <th>5</th>\n",
              "      <td>1300.0</td>\n",
              "      <td>4</td>\n",
              "      <td>3.0</td>\n",
              "      <td>Semi-Furnished</td>\n",
              "      <td>Rohini Sector 24</td>\n",
              "      <td>15500000</td>\n",
              "    </tr>\n",
              "    <tr>\n",
              "      <th>6</th>\n",
              "      <td>1350.0</td>\n",
              "      <td>4</td>\n",
              "      <td>3.0</td>\n",
              "      <td>Semi-Furnished</td>\n",
              "      <td>Rohini Sector 24</td>\n",
              "      <td>10000000</td>\n",
              "    </tr>\n",
              "    <tr>\n",
              "      <th>7</th>\n",
              "      <td>650.0</td>\n",
              "      <td>2</td>\n",
              "      <td>2.0</td>\n",
              "      <td>Semi-Furnished</td>\n",
              "      <td>Delhi Homes, Rohini Sector 24</td>\n",
              "      <td>4000000</td>\n",
              "    </tr>\n",
              "    <tr>\n",
              "      <th>8</th>\n",
              "      <td>985.0</td>\n",
              "      <td>3</td>\n",
              "      <td>3.0</td>\n",
              "      <td>Unfurnished</td>\n",
              "      <td>Rohini Sector 21</td>\n",
              "      <td>6800000</td>\n",
              "    </tr>\n",
              "    <tr>\n",
              "      <th>9</th>\n",
              "      <td>1300.0</td>\n",
              "      <td>4</td>\n",
              "      <td>4.0</td>\n",
              "      <td>Semi-Furnished</td>\n",
              "      <td>Rohini Sector 22</td>\n",
              "      <td>15000000</td>\n",
              "    </tr>\n",
              "    <tr>\n",
              "      <th>10</th>\n",
              "      <td>1100.0</td>\n",
              "      <td>3</td>\n",
              "      <td>2.0</td>\n",
              "      <td>Semi-Furnished</td>\n",
              "      <td>Rohini Sector 20</td>\n",
              "      <td>6200000</td>\n",
              "    </tr>\n",
              "  </tbody>\n",
              "</table>\n",
              "</div>"
            ],
            "text/plain": [
              "      Area  BHK  ...                                           Locality     Price\n",
              "0    800.0    3  ...                                   Rohini Sector 25   6500000\n",
              "1    750.0    2  ...             J R Designers Floors, Rohini Sector 24   5000000\n",
              "2    950.0    2  ...                Citizen Apartment, Rohini Sector 13  15500000\n",
              "3    600.0    2  ...                                   Rohini Sector 24   4200000\n",
              "4    650.0    2  ...  Rohini Sector 24 carpet area 650 sqft status R...   6200000\n",
              "5   1300.0    4  ...                                   Rohini Sector 24  15500000\n",
              "6   1350.0    4  ...                                   Rohini Sector 24  10000000\n",
              "7    650.0    2  ...                      Delhi Homes, Rohini Sector 24   4000000\n",
              "8    985.0    3  ...                                   Rohini Sector 21   6800000\n",
              "9   1300.0    4  ...                                   Rohini Sector 22  15000000\n",
              "10  1100.0    3  ...                                   Rohini Sector 20   6200000\n",
              "\n",
              "[11 rows x 6 columns]"
            ]
          },
          "metadata": {},
          "execution_count": 15
        }
      ]
    },
    {
      "cell_type": "code",
      "metadata": {
        "colab": {
          "base_uri": "https://localhost:8080/",
          "height": 300
        },
        "id": "l9aCqhSjwllP",
        "outputId": "d5ecc66d-ced5-435e-e3b1-edd14d456994"
      },
      "source": [
        "df3.describe()"
      ],
      "execution_count": null,
      "outputs": [
        {
          "output_type": "execute_result",
          "data": {
            "text/html": [
              "<div>\n",
              "<style scoped>\n",
              "    .dataframe tbody tr th:only-of-type {\n",
              "        vertical-align: middle;\n",
              "    }\n",
              "\n",
              "    .dataframe tbody tr th {\n",
              "        vertical-align: top;\n",
              "    }\n",
              "\n",
              "    .dataframe thead th {\n",
              "        text-align: right;\n",
              "    }\n",
              "</style>\n",
              "<table border=\"1\" class=\"dataframe\">\n",
              "  <thead>\n",
              "    <tr style=\"text-align: right;\">\n",
              "      <th></th>\n",
              "      <th>Area</th>\n",
              "      <th>BHK</th>\n",
              "      <th>Bathroom</th>\n",
              "      <th>Price</th>\n",
              "    </tr>\n",
              "  </thead>\n",
              "  <tbody>\n",
              "    <tr>\n",
              "      <th>count</th>\n",
              "      <td>1252.000000</td>\n",
              "      <td>1252.000000</td>\n",
              "      <td>1252.000000</td>\n",
              "      <td>1.252000e+03</td>\n",
              "    </tr>\n",
              "    <tr>\n",
              "      <th>mean</th>\n",
              "      <td>1467.391358</td>\n",
              "      <td>2.797923</td>\n",
              "      <td>2.557508</td>\n",
              "      <td>2.134963e+07</td>\n",
              "    </tr>\n",
              "    <tr>\n",
              "      <th>std</th>\n",
              "      <td>1571.794419</td>\n",
              "      <td>0.952037</td>\n",
              "      <td>1.043751</td>\n",
              "      <td>2.566203e+07</td>\n",
              "    </tr>\n",
              "    <tr>\n",
              "      <th>min</th>\n",
              "      <td>28.000000</td>\n",
              "      <td>1.000000</td>\n",
              "      <td>1.000000</td>\n",
              "      <td>1.000000e+06</td>\n",
              "    </tr>\n",
              "    <tr>\n",
              "      <th>25%</th>\n",
              "      <td>800.000000</td>\n",
              "      <td>2.000000</td>\n",
              "      <td>2.000000</td>\n",
              "      <td>5.687500e+06</td>\n",
              "    </tr>\n",
              "    <tr>\n",
              "      <th>50%</th>\n",
              "      <td>1200.000000</td>\n",
              "      <td>3.000000</td>\n",
              "      <td>2.000000</td>\n",
              "      <td>1.420000e+07</td>\n",
              "    </tr>\n",
              "    <tr>\n",
              "      <th>75%</th>\n",
              "      <td>1700.000000</td>\n",
              "      <td>3.000000</td>\n",
              "      <td>3.000000</td>\n",
              "      <td>2.592500e+07</td>\n",
              "    </tr>\n",
              "    <tr>\n",
              "      <th>max</th>\n",
              "      <td>24300.000000</td>\n",
              "      <td>10.000000</td>\n",
              "      <td>7.000000</td>\n",
              "      <td>2.400000e+08</td>\n",
              "    </tr>\n",
              "  </tbody>\n",
              "</table>\n",
              "</div>"
            ],
            "text/plain": [
              "               Area          BHK     Bathroom         Price\n",
              "count   1252.000000  1252.000000  1252.000000  1.252000e+03\n",
              "mean    1467.391358     2.797923     2.557508  2.134963e+07\n",
              "std     1571.794419     0.952037     1.043751  2.566203e+07\n",
              "min       28.000000     1.000000     1.000000  1.000000e+06\n",
              "25%      800.000000     2.000000     2.000000  5.687500e+06\n",
              "50%     1200.000000     3.000000     2.000000  1.420000e+07\n",
              "75%     1700.000000     3.000000     3.000000  2.592500e+07\n",
              "max    24300.000000    10.000000     7.000000  2.400000e+08"
            ]
          },
          "metadata": {},
          "execution_count": 16
        }
      ]
    },
    {
      "cell_type": "code",
      "source": [
        "features=['Area','BHK','Bathroom']\n",
        "X=df3[features]\n",
        "y=df3.Price"
      ],
      "metadata": {
        "id": "0SGntDxjaDr8"
      },
      "execution_count": null,
      "outputs": []
    },
    {
      "cell_type": "markdown",
      "source": [
        "DECISION TREE MODEL"
      ],
      "metadata": {
        "id": "UOT4QtQC2UG_"
      }
    },
    {
      "cell_type": "code",
      "source": [
        "from sklearn.tree import DecisionTreeRegressor\n",
        "from sklearn.metrics import mean_absolute_error\n",
        "from sklearn.model_selection import train_test_split "
      ],
      "metadata": {
        "id": "sbyzNrEDatAW"
      },
      "execution_count": null,
      "outputs": []
    },
    {
      "cell_type": "code",
      "source": [
        "train_X,test_X,train_y,test_y=train_test_split(X,y,random_state=0)"
      ],
      "metadata": {
        "id": "o-yK2F1FbKvi"
      },
      "execution_count": null,
      "outputs": []
    },
    {
      "cell_type": "code",
      "source": [
        "def getmae(max_leaf_nodes,train_X,test_X,train_y,test_y):\n",
        "  model=DecisionTreeRegressor(max_leaf_nodes=max_leaf_nodes,random_state=0)\n",
        "  model.fit(train_X,train_y)\n",
        "  pred=model.predict(test_X)\n",
        "  mae=mean_absolute_error(test_y,pred)\n",
        "  return(mae)"
      ],
      "metadata": {
        "id": "H8KJzb8KfoWN"
      },
      "execution_count": null,
      "outputs": []
    },
    {
      "cell_type": "code",
      "source": [
        "for max_leaf_nodes in [10,50,100,500,1000]:\n",
        "  mymae=getmae(max_leaf_nodes,train_X,test_X,train_y,test_y)\n",
        "  print(max_leaf_nodes, mymae)"
      ],
      "metadata": {
        "colab": {
          "base_uri": "https://localhost:8080/"
        },
        "id": "YDI5V2exgitq",
        "outputId": "7d3a77f6-b5d5-4c8b-d58d-e88386d7e76e"
      },
      "execution_count": null,
      "outputs": [
        {
          "output_type": "stream",
          "name": "stdout",
          "text": [
            "10 9480289.016989721\n",
            "50 8281926.597109145\n",
            "100 8294920.013321551\n",
            "500 8431095.712756144\n",
            "1000 8431095.712756144\n"
          ]
        }
      ]
    },
    {
      "cell_type": "code",
      "source": [
        "dfmodel=DecisionTreeRegressor(max_leaf_nodes=50,random_state=0)\n",
        "dfmodel.fit(train_X,train_y)"
      ],
      "metadata": {
        "colab": {
          "base_uri": "https://localhost:8080/"
        },
        "id": "9eQcOLjybqPP",
        "outputId": "5ee81df0-6ab2-4459-8e38-11433385341c"
      },
      "execution_count": null,
      "outputs": [
        {
          "output_type": "execute_result",
          "data": {
            "text/plain": [
              "DecisionTreeRegressor(max_leaf_nodes=50, random_state=0)"
            ]
          },
          "metadata": {},
          "execution_count": 22
        }
      ]
    },
    {
      "cell_type": "code",
      "source": [
        "prediction_on_test=dfmodel.predict(test_X)\n",
        "mae=mean_absolute_error(test_y,prediction_on_test)\n",
        "mae"
      ],
      "metadata": {
        "colab": {
          "base_uri": "https://localhost:8080/"
        },
        "id": "QChlsw27fSVV",
        "outputId": "fef1447e-5622-4258-822a-5e3ac86cb467"
      },
      "execution_count": null,
      "outputs": [
        {
          "output_type": "execute_result",
          "data": {
            "text/plain": [
              "8281926.597109145"
            ]
          },
          "metadata": {},
          "execution_count": 23
        }
      ]
    },
    {
      "cell_type": "code",
      "source": [
        "print(y.head())\n",
        "print(dfmodel.predict(X.head()))"
      ],
      "metadata": {
        "colab": {
          "base_uri": "https://localhost:8080/"
        },
        "id": "p0cP2VSl1G1g",
        "outputId": "76bf1014-109e-419b-bafe-75a4235615fb"
      },
      "execution_count": null,
      "outputs": [
        {
          "output_type": "stream",
          "name": "stdout",
          "text": [
            "0     6500000\n",
            "1     5000000\n",
            "2    15500000\n",
            "3     4200000\n",
            "4     6200000\n",
            "Name: Price, dtype: int64\n",
            "[ 6456111.11111111  7131076.92307692 11853723.40425532  3278571.42857143\n",
            "  3278571.42857143]\n"
          ]
        }
      ]
    },
    {
      "cell_type": "markdown",
      "source": [
        "RANDOM FOREST MODEL"
      ],
      "metadata": {
        "id": "n_YfRqVJ2Pbc"
      }
    },
    {
      "cell_type": "code",
      "source": [
        "from sklearn.ensemble import RandomForestRegressor"
      ],
      "metadata": {
        "id": "rPjM7N9v0L_H"
      },
      "execution_count": null,
      "outputs": []
    },
    {
      "cell_type": "code",
      "source": [
        "rfmodel=RandomForestRegressor(random_state=1)\n",
        "rfmodel.fit(train_X,train_y)\n",
        "prediction=rfmodel.predict(test_X)\n",
        "mae=mean_absolute_error(test_y,prediction)\n",
        "mae"
      ],
      "metadata": {
        "colab": {
          "base_uri": "https://localhost:8080/"
        },
        "id": "DNU8GRqz0wBJ",
        "outputId": "fda39d95-e50e-4028-f001-e9348574fe34"
      },
      "execution_count": null,
      "outputs": [
        {
          "output_type": "execute_result",
          "data": {
            "text/plain": [
              "7708620.230846143"
            ]
          },
          "metadata": {},
          "execution_count": 30
        }
      ]
    },
    {
      "cell_type": "code",
      "source": [
        "print(y.head())\n",
        "print(rfmodel.predict(X.head()))"
      ],
      "metadata": {
        "colab": {
          "base_uri": "https://localhost:8080/"
        },
        "id": "0sTHdlzi1mep",
        "outputId": "baefe5a3-bee0-499a-9619-b1bd995211ff"
      },
      "execution_count": null,
      "outputs": [
        {
          "output_type": "stream",
          "name": "stdout",
          "text": [
            "0     6500000\n",
            "1     5000000\n",
            "2    15500000\n",
            "3     4200000\n",
            "4     6200000\n",
            "Name: Price, dtype: int64\n",
            "[ 6178818.17446442  6745451.40692641 12337352.26162726  5332871.29259629\n",
            "  4763453.55200355]\n"
          ]
        }
      ]
    },
    {
      "cell_type": "markdown",
      "source": [
        "LINEAR REGGRESION MODEL"
      ],
      "metadata": {
        "id": "CM7h3YWV2izD"
      }
    },
    {
      "cell_type": "code",
      "source": [
        "from sklearn import linear_model\n",
        "lrmodel=linear_model.LinearRegression()\n",
        "lrmodel.fit(train_X,train_y)\n",
        "lrprediction=lrmodel.predict(test_X)\n",
        "mae=mean_absolute_error(test_y,lrprediction)\n",
        "mae"
      ],
      "metadata": {
        "colab": {
          "base_uri": "https://localhost:8080/"
        },
        "id": "oRA75xsW2lNs",
        "outputId": "6e7622ee-7657-4217-8fdb-49f23735a284"
      },
      "execution_count": null,
      "outputs": [
        {
          "output_type": "execute_result",
          "data": {
            "text/plain": [
              "10673990.300782735"
            ]
          },
          "metadata": {},
          "execution_count": 36
        }
      ]
    },
    {
      "cell_type": "code",
      "source": [
        "print(y.head(), lrmodel.predict(X.head()))"
      ],
      "metadata": {
        "colab": {
          "base_uri": "https://localhost:8080/"
        },
        "id": "WSY0kjaaCS4F",
        "outputId": "0a375c54-96d0-42f9-cd79-45efa357e8d2"
      },
      "execution_count": null,
      "outputs": [
        {
          "output_type": "stream",
          "name": "stdout",
          "text": [
            "0     6500000\n",
            "1     5000000\n",
            "2    15500000\n",
            "3     4200000\n",
            "4     6200000\n",
            "Name: Price, dtype: int64 [10797618.50038925 10765113.63104983 11419358.28976081 10274430.1370166\n",
            " 10437991.30169434]\n"
          ]
        }
      ]
    },
    {
      "cell_type": "code",
      "source": [
        "mean_absolute_error(train_y,lrmodel.predict(train_X))"
      ],
      "metadata": {
        "colab": {
          "base_uri": "https://localhost:8080/"
        },
        "id": "UwO8QdU9CiDW",
        "outputId": "bbfa85c2-f556-410f-e286-33b1753ce249"
      },
      "execution_count": null,
      "outputs": [
        {
          "output_type": "execute_result",
          "data": {
            "text/plain": [
              "9609324.453597799"
            ]
          },
          "metadata": {},
          "execution_count": 38
        }
      ]
    }
  ]
}